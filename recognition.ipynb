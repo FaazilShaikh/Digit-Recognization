{
 "cells": [
  {
   "cell_type": "code",
   "execution_count": 1,
   "outputs": [],
   "source": [
    "import numpy as np\n",
    "from matplotlib import pyplot as plt"
   ],
   "metadata": {
    "collapsed": false,
    "pycharm": {
     "name": "#%%\n"
    }
   }
  },
  {
   "cell_type": "code",
   "execution_count": 2,
   "outputs": [],
   "source": [
    "class Linear:\n",
    "    \"\"\"\n",
    "    This class implements a liner (or dense) layer. It has a call function to compute the forward step, and a backward function to calculate the gradients and apply them on the weights.\n",
    "    \"\"\"\n",
    "    def __init__(self, input_size, output_size):\n",
    "        # He Weights Initialization\n",
    "        std = np.sqrt(2.0 / input_size)\n",
    "        self.weights = np.random.randn(input_size, output_size) * std\n",
    "\n",
    "        # small values to avoid zero neurons using ReLU activation function\n",
    "        self.bias = np.random.uniform(-0.05, 0.05, output_size)\n",
    "\n",
    "    def __call__(self, input_data):\n",
    "        # calculates the output of the layer\n",
    "\n",
    "        output = np.dot(input_data, self.weights) + self.bias\n",
    "\n",
    "        self.last_couple = (input_data, output)\n",
    "\n",
    "        return output\n",
    "\n",
    "    def backward(self, input, output_error, learning_rate):\n",
    "        # calculates the gradients associated to the layer and returns the gradient to back propagate\n",
    "\n",
    "        input_error = np.dot(output_error, self.weights.T)\n",
    "        weights_error = np.dot(input.T, output_error)\n",
    "\n",
    "        self.weights -= learning_rate * weights_error\n",
    "        self.bias -= learning_rate * output_error.sum(0)\n",
    "\n",
    "        return input_error"
   ],
   "metadata": {
    "collapsed": false,
    "pycharm": {
     "name": "#%%\n"
    }
   }
  },
  {
   "cell_type": "code",
   "execution_count": 3,
   "outputs": [],
   "source": [
    "class tanh:\n",
    "    \"\"\"\n",
    "    This class implements the Tanh activation function. It has a call function to compute the forward step, and a backward function to calculate the gradients using the derivative of the tanh function (tanh prime).\n",
    "    \"\"\"\n",
    "    def __call__(self, x):\n",
    "        return np.tanh(x)\n",
    "\n",
    "    def backward(self, x, output_error, *args, **kwargs):\n",
    "        return (1-np.tanh(x)**2) * output_error"
   ],
   "metadata": {
    "collapsed": false,
    "pycharm": {
     "name": "#%%\n"
    }
   }
  },
  {
   "cell_type": "code",
   "execution_count": 4,
   "outputs": [],
   "source": [
    "class CrossEntropy:\n",
    "    \"\"\"\n",
    "    This class implements the Cross entropy error function. It is used mainly for classification problems. It implements a forward step and a backward one, which calculates the derivative of the error. It also implements the softmax function that, given a prediction, calculates the probabilities associated to each class.\n",
    "    \"\"\"\n",
    "\n",
    "    def softmax(self, y):\n",
    "        tmp = np.exp(y)\n",
    "        output = tmp / np.sum(tmp, -1, keepdims=True)\n",
    "        return output\n",
    "\n",
    "    def __call__(self, y_true, y_pred, **kwargs):\n",
    "        probs = self.softmax(y_pred)\n",
    "        p = probs[np.arange(len(probs)), y_true]\n",
    "        p = np.log(p)\n",
    "        return np.mean(p)\n",
    "\n",
    "    def backward(self, y_true, y_pred):\n",
    "        probs = self.softmax(y_pred)\n",
    "        b = np.zeros((probs.shape[0], probs.shape[1]))\n",
    "        b[np.arange(probs.shape[0]), y_true] = 1\n",
    "        probs = probs - b\n",
    "\n",
    "        return probs"
   ],
   "metadata": {
    "collapsed": false,
    "pycharm": {
     "name": "#%%\n"
    }
   }
  },
  {
   "cell_type": "code",
   "execution_count": 5,
   "outputs": [],
   "source": [
    "def batcher(x, y, batch_size):\n",
    "    \"\"\"\n",
    "    This function is used to shuffle the dataset and return the batches, in a generative way (a batch is calculated each time the function is called, and not all at the same time).\n",
    "    \"\"\"\n",
    "    idx = np.arange(len(x))\n",
    "    np.random.shuffle(idx)\n",
    "    for i in range(0, len(x), batch_size):\n",
    "        _i = idx[i:i + batch_size]\n",
    "        _x, _y = x[_i], y[_i]\n",
    "        yield _x, _y\n",
    "\n",
    "def forward(x, model):\n",
    "    \"\"\"\n",
    "    This function implement the forward step. Given a model as a list of layers, it propagates the input through the whole model, to produce the output\n",
    "    \"\"\"\n",
    "    inputs = []\n",
    "    for layer in model:\n",
    "        inputs.append(x)\n",
    "        x = layer(x)\n",
    "    return x, inputs\n",
    "\n",
    "def calculate_accuracy(y_true, y_pred):\n",
    "    \"\"\"\n",
    "    This function calculates the accuracy score. Used only for classification problems\n",
    "    \"\"\"\n",
    "\n",
    "    y_pred = y_pred.argmax(-1)\n",
    "    a = y_true == y_pred\n",
    "    a = a.sum() / len(y_true)\n",
    "    return a\n",
    "\n",
    "def training(x, y, model, loss, epochs, learning_rate, batch_size=4, print_errors=False):\n",
    "    \"\"\"\n",
    "    This function implement the whole training process. It is possible to pass the loss class, the number of epochs and the learning rate used to modify the parameters of the model. Also, it is possible to choose the bartch size and if the mean error must be printed after each epoch, or not.\n",
    "    \"\"\"\n",
    "\n",
    "    errors = []\n",
    "    for i in range(epochs):\n",
    "        epoch_errors = []\n",
    "        for _x, _y in batcher(x, y, batch_size):\n",
    "\n",
    "            o, inputs = forward(_x, model)\n",
    "\n",
    "            error = loss(_y, o)\n",
    "            epoch_errors.append(error)\n",
    "\n",
    "            error_gradient = loss.backward(_y, o)\n",
    "            for o, layer in reversed(list(zip(inputs, model))):\n",
    "                error_gradient = layer.backward(o, error_gradient, learning_rate)\n",
    "\n",
    "        errors.append(epoch_errors)\n",
    "\n",
    "        if print_errors:\n",
    "            print(f'Error after epoch {i}: {np.mean(epoch_errors)}')\n",
    "\n",
    "    return errors"
   ],
   "metadata": {
    "collapsed": false,
    "pycharm": {
     "name": "#%%\n"
    }
   }
  },
  {
   "cell_type": "code",
   "execution_count": 6,
   "outputs": [],
   "source": [
    "from sklearn.datasets import load_digits\n",
    "from sklearn.model_selection import train_test_split\n",
    "\n",
    "x, y = load_digits(return_X_y=True)\n",
    "\n",
    "# we standardize the values in the range [0, 1]\n",
    "x = x / 16\n",
    "# then we convert it into discrete pixels\n",
    "x = np.where(x > 0.5, 1, 0)\n",
    "\n",
    "X_train, X_test, y_train, y_test = train_test_split(x, y, test_size=0.2)"
   ],
   "metadata": {
    "collapsed": false,
    "pycharm": {
     "name": "#%%\n"
    }
   }
  },
  {
   "cell_type": "code",
   "execution_count": 7,
   "outputs": [
    {
     "name": "stdout",
     "output_type": "stream",
     "text": [
      "Train score 0.9979123173277662\n",
      "Test score 0.9111111111111111\n"
     ]
    }
   ],
   "source": [
    "# create and train the model\n",
    "\n",
    "model = [Linear(64, 32), tanh(), Linear(32, 20), tanh(), Linear(20, 10)]\n",
    "loss = CrossEntropy()\n",
    "\n",
    "errors = training(X_train, y_train, model, loss, epochs=20, learning_rate=0.01)\n",
    "print('Train score', calculate_accuracy(y_train, forward(X_train, model)[0]))\n",
    "print('Test score', calculate_accuracy(y_test, forward(X_test, model)[0]))"
   ],
   "metadata": {
    "collapsed": false,
    "pycharm": {
     "name": "#%%\n"
    }
   }
  },
  {
   "cell_type": "code",
   "execution_count": 8,
   "outputs": [
    {
     "data": {
      "text/plain": "<Figure size 432x288 with 1 Axes>",
      "image/png": "[encoded data removed]"
     },
     "metadata": {
      "needs_background": "light"
     },
     "output_type": "display_data"
    }
   ],
   "source": [
    "plt.plot(np.arange(20), [-np.mean(e) for e in errors])\n",
    "plt.xlabel('Epoch')\n",
    "plt.ylabel('Loss')\n",
    "plt.show()"
   ],
   "metadata": {
    "collapsed": false,
    "pycharm": {
     "name": "#%%\n"
    }
   }
  },
  {
   "cell_type": "code",
   "execution_count": 9,
   "outputs": [],
   "source": [
    "from copy import deepcopy\n",
    "from collections import defaultdict\n",
    "\n",
    "\n",
    "def modify_digits(images, labels, images_per_label=3, pixels_to_swap=2):\n",
    "    res = defaultdict(list)\n",
    "    original_images = defaultdict(list)\n",
    "    y = []\n",
    "\n",
    "    for img, l in zip(images, labels):\n",
    "        if len(res[l]) < images_per_label:\n",
    "\n",
    "            new_img = deepcopy(img)\n",
    "            original_images[l].append(img)\n",
    "            y.append(l)\n",
    "\n",
    "            zeros = (new_img <= 0.5).nonzero()[0]\n",
    "            ones = (new_img > 0.5).nonzero()[0]\n",
    "\n",
    "            np.random.shuffle(zeros)\n",
    "            np.random.shuffle(ones)\n",
    "\n",
    "            for i in range(pixels_to_swap):\n",
    "                c = new_img[zeros[i]]\n",
    "                new_img[zeros[i]] = new_img[ones[i]]\n",
    "                new_img[ones[i]] = c\n",
    "\n",
    "            res[l].append(new_img)\n",
    "\n",
    "    original_images = np.asarray([[v1 for v1 in v]  for v in original_images.values()]).reshape(-1, 64)\n",
    "    modified_images = np.asarray([[v1 for v1 in v]  for v in res.values()]).reshape(-1, 64)\n",
    "    y = np.asarray([[k] * len(v)   for k, v in res.items()]).reshape(-1)\n",
    "\n",
    "    return original_images, modified_images, y"
   ],
   "metadata": {
    "collapsed": false,
    "pycharm": {
     "name": "#%%\n"
    }
   }
  },
  {
   "cell_type": "code",
   "execution_count": 10,
   "outputs": [],
   "source": [
    "original, modified, labels = modify_digits(X_test, y_test, pixels_to_swap=10)"
   ],
   "metadata": {
    "collapsed": false,
    "pycharm": {
     "name": "#%%\n"
    }
   }
  },
  {
   "cell_type": "code",
   "execution_count": 11,
   "outputs": [
    {
     "data": {
      "text/plain": "<Figure size 432x288 with 0 Axes>"
     },
     "metadata": {},
     "output_type": "display_data"
    },
    {
     "data": {
      "text/plain": "<Figure size 288x288 with 1 Axes>",
      "image/png": "[encoded data removed]"
     },
     "metadata": {
      "needs_background": "light"
     },
     "output_type": "display_data"
    },
    {
     "data": {
      "text/plain": "<Figure size 288x288 with 1 Axes>",
      "image/png": "[encoded data removed]"
     },
     "metadata": {
      "needs_background": "light"
     },
     "output_type": "display_data"
    },
    {
     "name": "stdout",
     "output_type": "stream",
     "text": [
      "0\n"
     ]
    }
   ],
   "source": [
    "\n",
    "plt.gray()\n",
    "plt.matshow(original[0].reshape(8, 8))\n",
    "plt.show()\n",
    "plt.matshow(modified[0].reshape(8, 8))\n",
    "plt.show()\n",
    "print(labels[0])"
   ],
   "metadata": {
    "collapsed": false,
    "pycharm": {
     "name": "#%%\n"
    }
   }
  },
  {
   "cell_type": "code",
   "execution_count": 12,
   "outputs": [
    {
     "name": "stdout",
     "output_type": "stream",
     "text": [
      "Experiment swapping 0 pixels\n",
      "Original images score 0.9333333333333333\n",
      "Swapped pixels images score 0.9333333333333333\n",
      "Experiment swapping 1 pixels\n",
      "Original images score 0.9333333333333333\n",
      "Swapped pixels images score 0.8\n",
      "Experiment swapping 2 pixels\n",
      "Original images score 0.9333333333333333\n",
      "Swapped pixels images score 0.7666666666666667\n",
      "Experiment swapping 3 pixels\n",
      "Original images score 0.9333333333333333\n",
      "Swapped pixels images score 0.7333333333333333\n",
      "Experiment swapping 4 pixels\n",
      "Original images score 0.9333333333333333\n",
      "Swapped pixels images score 0.6666666666666666\n",
      "Experiment swapping 5 pixels\n",
      "Original images score 0.9333333333333333\n",
      "Swapped pixels images score 0.7333333333333333\n",
      "Experiment swapping 6 pixels\n",
      "Original images score 0.9333333333333333\n",
      "Swapped pixels images score 0.5333333333333333\n",
      "Experiment swapping 7 pixels\n",
      "Original images score 0.9333333333333333\n",
      "Swapped pixels images score 0.3333333333333333\n",
      "Experiment swapping 8 pixels\n",
      "Original images score 0.9333333333333333\n",
      "Swapped pixels images score 0.26666666666666666\n",
      "Experiment swapping 9 pixels\n",
      "Original images score 0.9333333333333333\n",
      "Swapped pixels images score 0.4\n"
     ]
    }
   ],
   "source": [
    "results = []\n",
    "\n",
    "for i in range(0, 10):\n",
    "    original, modified, labels = modify_digits(X_test, y_test, pixels_to_swap=i)\n",
    "    results.append(calculate_accuracy(labels, forward(modified, model)[0]))\n",
    "    print(f'Experiment swapping {i} pixels')\n",
    "    print('Original images score', calculate_accuracy(labels, forward(original, model)[0]))\n",
    "    print('Swapped pixels images score', calculate_accuracy(labels, forward(modified, model)[0]))"
   ],
   "metadata": {
    "collapsed": false,
    "pycharm": {
     "name": "#%%\n"
    }
   }
  },
  {
   "cell_type": "code",
   "execution_count": 13,
   "outputs": [
    {
     "data": {
      "text/plain": "<Figure size 432x288 with 1 Axes>",
      "image/png": "[encoded data removed]"
     },
     "metadata": {
      "needs_background": "light"
     },
     "output_type": "display_data"
    }
   ],
   "source": [
    "plt.plot(np.arange(10), results)\n",
    "plt.xlabel('Swapped pixels')\n",
    "plt.ylabel('Accuracy')\n",
    "plt.show()"
   ],
   "metadata": {
    "collapsed": false,
    "pycharm": {
     "name": "#%%\n"
    }
   }
  }
 ],
 "metadata": {
  "kernelspec": {
   "display_name": "Python 3",
   "language": "python",
   "name": "python3"
  },
  "language_info": {
   "codemirror_mode": {
    "name": "ipython",
    "version": 2
   },
   "file_extension": ".py",
   "mimetype": "text/x-python",
   "name": "python",
   "nbconvert_exporter": "python",
   "pygments_lexer": "ipython2",
   "version": "2.7.6"
  }
 },
 "nbformat": 4,
 "nbformat_minor": 0
}